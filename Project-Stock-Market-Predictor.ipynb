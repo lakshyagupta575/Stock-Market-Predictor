{
 "cells": [
  {
   "cell_type": "code",
   "execution_count": 1,
   "metadata": {},
   "outputs": [
    {
     "name": "stderr",
     "output_type": "stream",
     "text": [
      "Using TensorFlow backend.\n"
     ]
    }
   ],
   "source": [
    "import numpy as np\n",
    "import pandas as pd\n",
    "import pandas_datareader as pdr \n",
    "import math\n",
    "import matplotlib.pyplot as plt\n",
    "import keras\n",
    "from sklearn.preprocessing import MinMaxScaler\n",
    "from keras.models import Sequential\n",
    "from keras.layers import Dense , LSTM"
   ]
  },
  {
   "cell_type": "code",
   "execution_count": 2,
   "metadata": {},
   "outputs": [
    {
     "data": {
      "text/html": [
       "<div>\n",
       "<style scoped>\n",
       "    .dataframe tbody tr th:only-of-type {\n",
       "        vertical-align: middle;\n",
       "    }\n",
       "\n",
       "    .dataframe tbody tr th {\n",
       "        vertical-align: top;\n",
       "    }\n",
       "\n",
       "    .dataframe thead th {\n",
       "        text-align: right;\n",
       "    }\n",
       "</style>\n",
       "<table border=\"1\" class=\"dataframe\">\n",
       "  <thead>\n",
       "    <tr style=\"text-align: right;\">\n",
       "      <th></th>\n",
       "      <th>High</th>\n",
       "      <th>Low</th>\n",
       "      <th>Open</th>\n",
       "      <th>Close</th>\n",
       "      <th>Volume</th>\n",
       "      <th>Adj Close</th>\n",
       "    </tr>\n",
       "    <tr>\n",
       "      <th>Date</th>\n",
       "      <th></th>\n",
       "      <th></th>\n",
       "      <th></th>\n",
       "      <th></th>\n",
       "      <th></th>\n",
       "      <th></th>\n",
       "    </tr>\n",
       "  </thead>\n",
       "  <tbody>\n",
       "    <tr>\n",
       "      <th>2014-12-31</th>\n",
       "      <td>28.282499</td>\n",
       "      <td>27.552500</td>\n",
       "      <td>28.205000</td>\n",
       "      <td>27.594999</td>\n",
       "      <td>165613600.0</td>\n",
       "      <td>24.933533</td>\n",
       "    </tr>\n",
       "    <tr>\n",
       "      <th>2015-01-02</th>\n",
       "      <td>27.860001</td>\n",
       "      <td>26.837500</td>\n",
       "      <td>27.847500</td>\n",
       "      <td>27.332500</td>\n",
       "      <td>212818400.0</td>\n",
       "      <td>24.696352</td>\n",
       "    </tr>\n",
       "    <tr>\n",
       "      <th>2015-01-05</th>\n",
       "      <td>27.162500</td>\n",
       "      <td>26.352501</td>\n",
       "      <td>27.072500</td>\n",
       "      <td>26.562500</td>\n",
       "      <td>257142000.0</td>\n",
       "      <td>24.000614</td>\n",
       "    </tr>\n",
       "    <tr>\n",
       "      <th>2015-01-06</th>\n",
       "      <td>26.857500</td>\n",
       "      <td>26.157499</td>\n",
       "      <td>26.635000</td>\n",
       "      <td>26.565001</td>\n",
       "      <td>263188400.0</td>\n",
       "      <td>24.002876</td>\n",
       "    </tr>\n",
       "    <tr>\n",
       "      <th>2015-01-07</th>\n",
       "      <td>27.049999</td>\n",
       "      <td>26.674999</td>\n",
       "      <td>26.799999</td>\n",
       "      <td>26.937500</td>\n",
       "      <td>160423600.0</td>\n",
       "      <td>24.339447</td>\n",
       "    </tr>\n",
       "    <tr>\n",
       "      <th>...</th>\n",
       "      <td>...</td>\n",
       "      <td>...</td>\n",
       "      <td>...</td>\n",
       "      <td>...</td>\n",
       "      <td>...</td>\n",
       "      <td>...</td>\n",
       "    </tr>\n",
       "    <tr>\n",
       "      <th>2019-12-24</th>\n",
       "      <td>71.222504</td>\n",
       "      <td>70.730003</td>\n",
       "      <td>71.172501</td>\n",
       "      <td>71.067497</td>\n",
       "      <td>48478800.0</td>\n",
       "      <td>69.886818</td>\n",
       "    </tr>\n",
       "    <tr>\n",
       "      <th>2019-12-26</th>\n",
       "      <td>72.495003</td>\n",
       "      <td>71.175003</td>\n",
       "      <td>71.205002</td>\n",
       "      <td>72.477501</td>\n",
       "      <td>93121200.0</td>\n",
       "      <td>71.273392</td>\n",
       "    </tr>\n",
       "    <tr>\n",
       "      <th>2019-12-27</th>\n",
       "      <td>73.492500</td>\n",
       "      <td>72.029999</td>\n",
       "      <td>72.779999</td>\n",
       "      <td>72.449997</td>\n",
       "      <td>146266000.0</td>\n",
       "      <td>71.246353</td>\n",
       "    </tr>\n",
       "    <tr>\n",
       "      <th>2019-12-30</th>\n",
       "      <td>73.172501</td>\n",
       "      <td>71.305000</td>\n",
       "      <td>72.364998</td>\n",
       "      <td>72.879997</td>\n",
       "      <td>144114400.0</td>\n",
       "      <td>71.669212</td>\n",
       "    </tr>\n",
       "    <tr>\n",
       "      <th>2019-12-31</th>\n",
       "      <td>73.419998</td>\n",
       "      <td>72.379997</td>\n",
       "      <td>72.482498</td>\n",
       "      <td>73.412498</td>\n",
       "      <td>100805600.0</td>\n",
       "      <td>72.192863</td>\n",
       "    </tr>\n",
       "  </tbody>\n",
       "</table>\n",
       "<p>1259 rows × 6 columns</p>\n",
       "</div>"
      ],
      "text/plain": [
       "                 High        Low       Open      Close       Volume  Adj Close\n",
       "Date                                                                          \n",
       "2014-12-31  28.282499  27.552500  28.205000  27.594999  165613600.0  24.933533\n",
       "2015-01-02  27.860001  26.837500  27.847500  27.332500  212818400.0  24.696352\n",
       "2015-01-05  27.162500  26.352501  27.072500  26.562500  257142000.0  24.000614\n",
       "2015-01-06  26.857500  26.157499  26.635000  26.565001  263188400.0  24.002876\n",
       "2015-01-07  27.049999  26.674999  26.799999  26.937500  160423600.0  24.339447\n",
       "...               ...        ...        ...        ...          ...        ...\n",
       "2019-12-24  71.222504  70.730003  71.172501  71.067497   48478800.0  69.886818\n",
       "2019-12-26  72.495003  71.175003  71.205002  72.477501   93121200.0  71.273392\n",
       "2019-12-27  73.492500  72.029999  72.779999  72.449997  146266000.0  71.246353\n",
       "2019-12-30  73.172501  71.305000  72.364998  72.879997  144114400.0  71.669212\n",
       "2019-12-31  73.419998  72.379997  72.482498  73.412498  100805600.0  72.192863\n",
       "\n",
       "[1259 rows x 6 columns]"
      ]
     },
     "execution_count": 2,
     "metadata": {},
     "output_type": "execute_result"
    }
   ],
   "source": [
    "#Getting the stock data\n",
    "df = pdr.DataReader('AAPL' , data_source = 'yahoo' , start = '2015-01-01' , end = '2020-01-01')\n",
    "df"
   ]
  },
  {
   "cell_type": "code",
   "execution_count": 3,
   "metadata": {},
   "outputs": [
    {
     "data": {
      "text/plain": [
       "(1259, 6)"
      ]
     },
     "execution_count": 3,
     "metadata": {},
     "output_type": "execute_result"
    }
   ],
   "source": [
    "#Number of rows and columns\n",
    "df.shape"
   ]
  },
  {
   "cell_type": "code",
   "execution_count": 4,
   "metadata": {},
   "outputs": [
    {
     "data": {
      "image/png": "[encoded data removed]",
      "text/plain": [
       "<Figure size 1152x576 with 1 Axes>"
      ]
     },
     "metadata": {
      "needs_background": "light"
     },
     "output_type": "display_data"
    }
   ],
   "source": [
    "#Making a graph for the closing price\n",
    "plt.figure(figsize=(16,8))\n",
    "plt.title('Closing Price History')\n",
    "plt.plot(df['Close'])\n",
    "plt.xlabel('Date' , fontsize = 18)\n",
    "plt.ylabel('Closing Price in $' , fontsize = 18)\n",
    "plt.show()"
   ]
  },
  {
   "cell_type": "code",
   "execution_count": 5,
   "metadata": {},
   "outputs": [
    {
     "data": {
      "text/plain": [
       "1008"
      ]
     },
     "execution_count": 5,
     "metadata": {},
     "output_type": "execute_result"
    }
   ],
   "source": [
    "#Creating a new dataframe which only has the 'Close' block\n",
    "data = df.filter(['Close'])\n",
    "#Now we convert the dataframe object to a numpy array\n",
    "dataset = data.values\n",
    "#Getting the number of rows to train the model\n",
    "training_data_len = math.ceil(len(dataset)*0.8)\n",
    "\n",
    "training_data_len"
   ]
  },
  {
   "cell_type": "code",
   "execution_count": 6,
   "metadata": {},
   "outputs": [
    {
     "data": {
      "text/plain": [
       "array([[0.09856869],\n",
       "       [0.09340419],\n",
       "       [0.0782549 ],\n",
       "       ...,\n",
       "       [0.98106337],\n",
       "       [0.98952336],\n",
       "       [1.        ]])"
      ]
     },
     "execution_count": 6,
     "metadata": {},
     "output_type": "execute_result"
    }
   ],
   "source": [
    "#Scaling the data\n",
    "scaler = MinMaxScaler(feature_range=(0,1))\n",
    "scaled_data = scaler.fit_transform(dataset)\n",
    "\n",
    "scaled_data"
   ]
  },
  {
   "cell_type": "code",
   "execution_count": 7,
   "metadata": {},
   "outputs": [
    {
     "name": "stdout",
     "output_type": "stream",
     "text": [
      "[array([0.09856869, 0.09340419, 0.0782549 , 0.0783041 , 0.0856328 ,\n",
      "       0.10599579, 0.10658603, 0.09301069, 0.09778174, 0.09571594,\n",
      "       0.0810585 , 0.07697605, 0.09040384, 0.09448629, 0.10850428,\n",
      "       0.11135708, 0.11194728, 0.09246964, 0.12281738, 0.14047516,\n",
      "       0.13191681, 0.13914712, 0.13924551, 0.14372142, 0.14559051,\n",
      "       0.14062272, 0.14450841, 0.15582116, 0.16988835, 0.17765975,\n",
      "       0.18070929, 0.18439824, 0.18877579, 0.18744775, 0.19261229,\n",
      "       0.20982738, 0.20574493, 0.18912005, 0.19713739, 0.18749698,\n",
      "       0.19059564, 0.19192369, 0.1878904 , 0.17741384, 0.17834835,\n",
      "       0.18100439, 0.1680685 , 0.15690326, 0.16777336, 0.16354336,\n",
      "       0.17023265, 0.18051254, 0.18754614, 0.18277509, 0.17490534,\n",
      "       0.1813487 , 0.17879104, 0.16251046, 0.16674046, 0.16187105])]\n",
      "[0.17721709134499203]\n",
      "\n"
     ]
    }
   ],
   "source": [
    "#Creating the Training Data Set\n",
    "#Creating the Scaled Data Set\n",
    "train_data = scaled_data[0:training_data_len, :] # : to get all columns\n",
    "\n",
    "#Splitting the data into x_train and y_train data sets\n",
    "x_train = []\n",
    "y_train = []\n",
    "\n",
    "for i in range(60 , len(train_data)):\n",
    "    x_train.append(train_data[i-60:i,0]) #contains(appends) 60 values from 0 to 59 , 0th column\n",
    "    y_train.append(train_data[i,0]) #contains the 61st value, ie 60\n",
    "    if i<=60: # just showing the training sets as an example\n",
    "        print(x_train)\n",
    "        print(y_train)\n",
    "        print()\n",
    "        \n",
    "#this process is repeated, next time 1-60 (including) values are taken and 61th is y train"
   ]
  },
  {
   "cell_type": "code",
   "execution_count": 8,
   "metadata": {},
   "outputs": [],
   "source": [
    "#Converting the x_train and y_train into numpy arrays (used in LSTM model)\n",
    "x_train,y_train = np.array(x_train) , np.array(y_train)"
   ]
  },
  {
   "cell_type": "code",
   "execution_count": 9,
   "metadata": {},
   "outputs": [
    {
     "data": {
      "text/plain": [
       "(948, 60, 1)"
      ]
     },
     "execution_count": 9,
     "metadata": {},
     "output_type": "execute_result"
    }
   ],
   "source": [
    "#Reshaping the data, because we need a 3D data\n",
    "x_train = np.reshape(x_train,(948,60,1)) #samples, time-steps, features(closing price)\n",
    "x_train.shape"
   ]
  },
  {
   "cell_type": "code",
   "execution_count": 10,
   "metadata": {},
   "outputs": [],
   "source": [
    "#Building the LSTM model\n",
    "model = Sequential()\n",
    "model.add(LSTM(50, return_sequences = True, input_shape = (60,1))) #50 = no of neurons , adding LSTM layer , 60=time step, 1 = feature\n",
    "model.add(LSTM(50, return_sequences = False)) #false because we arent going to use anymore LSTM layers for our model\n",
    "model.add(Dense(25)) # 25 neurones densely connected neural network\n",
    "model.add(Dense(1))"
   ]
  },
  {
   "cell_type": "code",
   "execution_count": 11,
   "metadata": {},
   "outputs": [],
   "source": [
    "#Compile the model\n",
    "model.compile(optimizer = 'adam' , loss = 'mean_squared_error') #using optimizer to reduce loss function"
   ]
  },
  {
   "cell_type": "code",
   "execution_count": 12,
   "metadata": {},
   "outputs": [
    {
     "name": "stdout",
     "output_type": "stream",
     "text": [
      "Epoch 1/5\n",
      "948/948 [==============================] - 27s 28ms/step - loss: 0.0014\n",
      "Epoch 2/5\n",
      "948/948 [==============================] - 25s 27ms/step - loss: 7.3714e-04\n",
      "Epoch 3/5\n",
      "948/948 [==============================] - 29s 30ms/step - loss: 6.4757e-04\n",
      "Epoch 4/5\n",
      "948/948 [==============================] - 29s 31ms/step - loss: 5.2049e-04\n",
      "Epoch 5/5\n",
      "948/948 [==============================] - 30s 31ms/step - loss: 4.4376e-04\n"
     ]
    },
    {
     "data": {
      "text/plain": [
       "<keras.callbacks.callbacks.History at 0x295061e0508>"
      ]
     },
     "execution_count": 12,
     "metadata": {},
     "output_type": "execute_result"
    }
   ],
   "source": [
    "#Training the model\n",
    "model.fit(x_train, y_train, batch_size = 1, epochs = 5) # batch size = total no of training samples present in a single batch\n",
    "#epochs = number of iterations when a data set is passed forward and backward"
   ]
  },
  {
   "cell_type": "code",
   "execution_count": 13,
   "metadata": {},
   "outputs": [],
   "source": [
    "#Creating a testing data set\n",
    "#Creating a new array containing scaled values from index 1543 to 2003\n",
    "test_data = scaled_data[training_data_len - 60: , :] #to the end of dataset & all the columns\n",
    "\n",
    "#Creating the datasets x_test and y_text\n",
    "x_test = []\n",
    "y_test = dataset[training_data_len: , :] #the values that we want our model to predict\n",
    "\n",
    "for i in range(60, len(test_data)):\n",
    "    x_test.append(test_data[i-60:i, 0]) # contains past 60 values and y_test contains the 61st value\n",
    "    \n",
    "#So now the x_test set contains the past 60 values and the y_test set contains the 61^st values"
   ]
  },
  {
   "cell_type": "code",
   "execution_count": 14,
   "metadata": {},
   "outputs": [],
   "source": [
    "#Converting the data to a numpy array\n",
    "x_test = np.array(x_test)"
   ]
  },
  {
   "cell_type": "code",
   "execution_count": 15,
   "metadata": {},
   "outputs": [],
   "source": [
    "#Reshaping the data from 2D to 3D\n",
    "x_test = np.reshape(x_test, (x_test.shape[0], x_test.shape[1] , 1)) #No of samples(row), no of time steps(cols), no of features"
   ]
  },
  {
   "cell_type": "code",
   "execution_count": 16,
   "metadata": {},
   "outputs": [],
   "source": [
    "#Get the models predicted price values\n",
    "predictions = model.predict(x_test)\n",
    "predictions = scaler.inverse_transform(predictions) #Unscaling the values"
   ]
  },
  {
   "cell_type": "code",
   "execution_count": 17,
   "metadata": {},
   "outputs": [
    {
     "data": {
      "text/plain": [
       "0.23455278616977404"
      ]
     },
     "execution_count": 17,
     "metadata": {},
     "output_type": "execute_result"
    }
   ],
   "source": [
    "#Getting the RMS Error\n",
    "rmse = np.sqrt(np.mean(predictions - y_test)**2)\n",
    "rmse"
   ]
  },
  {
   "cell_type": "code",
   "execution_count": 18,
   "metadata": {},
   "outputs": [
    {
     "name": "stderr",
     "output_type": "stream",
     "text": [
      "C:\\Users\\laksh\\anaconda\\envs\\StockMarket\\lib\\site-packages\\ipykernel_launcher.py:4: SettingWithCopyWarning: \n",
      "A value is trying to be set on a copy of a slice from a DataFrame.\n",
      "Try using .loc[row_indexer,col_indexer] = value instead\n",
      "\n",
      "See the caveats in the documentation: https://pandas.pydata.org/pandas-docs/stable/user_guide/indexing.html#returning-a-view-versus-a-copy\n",
      "  after removing the cwd from sys.path.\n"
     ]
    },
    {
     "data": {
      "image/png": "[encoded data removed]",
      "text/plain": [
       "<Figure size 1152x576 with 1 Axes>"
      ]
     },
     "metadata": {
      "needs_background": "light"
     },
     "output_type": "display_data"
    }
   ],
   "source": [
    "#Plotting the data\n",
    "train = data[:training_data_len]\n",
    "valid = data[training_data_len:]\n",
    "valid['Predictions'] = predictions\n",
    "\n",
    "#Lets visualise the data now\n",
    "plt.figure(figsize=(16,8))\n",
    "plt.title('Model', fontsize=24)\n",
    "plt.ylabel('Close Price $', fontsize=18)\n",
    "plt.xlabel('Date',fontsize=18)\n",
    "plt.plot(train['Close'])\n",
    "plt.plot(valid[['Close' , 'Predictions']])\n",
    "plt.legend(['Train' , 'Validation' , 'Predictions'] , loc='lower right')\n",
    "plt.show()"
   ]
  },
  {
   "cell_type": "code",
   "execution_count": 19,
   "metadata": {},
   "outputs": [
    {
     "data": {
      "text/html": [
       "<div>\n",
       "<style scoped>\n",
       "    .dataframe tbody tr th:only-of-type {\n",
       "        vertical-align: middle;\n",
       "    }\n",
       "\n",
       "    .dataframe tbody tr th {\n",
       "        vertical-align: top;\n",
       "    }\n",
       "\n",
       "    .dataframe thead th {\n",
       "        text-align: right;\n",
       "    }\n",
       "</style>\n",
       "<table border=\"1\" class=\"dataframe\">\n",
       "  <thead>\n",
       "    <tr style=\"text-align: right;\">\n",
       "      <th></th>\n",
       "      <th>Close</th>\n",
       "      <th>Predictions</th>\n",
       "    </tr>\n",
       "    <tr>\n",
       "      <th>Date</th>\n",
       "      <th></th>\n",
       "      <th></th>\n",
       "    </tr>\n",
       "  </thead>\n",
       "  <tbody>\n",
       "    <tr>\n",
       "      <th>2019-01-03</th>\n",
       "      <td>35.547501</td>\n",
       "      <td>40.408306</td>\n",
       "    </tr>\n",
       "    <tr>\n",
       "      <th>2019-01-04</th>\n",
       "      <td>37.064999</td>\n",
       "      <td>38.554787</td>\n",
       "    </tr>\n",
       "    <tr>\n",
       "      <th>2019-01-07</th>\n",
       "      <td>36.982498</td>\n",
       "      <td>37.902409</td>\n",
       "    </tr>\n",
       "    <tr>\n",
       "      <th>2019-01-08</th>\n",
       "      <td>37.687500</td>\n",
       "      <td>37.748112</td>\n",
       "    </tr>\n",
       "    <tr>\n",
       "      <th>2019-01-09</th>\n",
       "      <td>38.327499</td>\n",
       "      <td>38.121647</td>\n",
       "    </tr>\n",
       "    <tr>\n",
       "      <th>...</th>\n",
       "      <td>...</td>\n",
       "      <td>...</td>\n",
       "    </tr>\n",
       "    <tr>\n",
       "      <th>2019-12-24</th>\n",
       "      <td>71.067497</td>\n",
       "      <td>70.327087</td>\n",
       "    </tr>\n",
       "    <tr>\n",
       "      <th>2019-12-26</th>\n",
       "      <td>72.477501</td>\n",
       "      <td>70.731354</td>\n",
       "    </tr>\n",
       "    <tr>\n",
       "      <th>2019-12-27</th>\n",
       "      <td>72.449997</td>\n",
       "      <td>71.713806</td>\n",
       "    </tr>\n",
       "    <tr>\n",
       "      <th>2019-12-30</th>\n",
       "      <td>72.879997</td>\n",
       "      <td>72.189980</td>\n",
       "    </tr>\n",
       "    <tr>\n",
       "      <th>2019-12-31</th>\n",
       "      <td>73.412498</td>\n",
       "      <td>72.554420</td>\n",
       "    </tr>\n",
       "  </tbody>\n",
       "</table>\n",
       "<p>251 rows × 2 columns</p>\n",
       "</div>"
      ],
      "text/plain": [
       "                Close  Predictions\n",
       "Date                              \n",
       "2019-01-03  35.547501    40.408306\n",
       "2019-01-04  37.064999    38.554787\n",
       "2019-01-07  36.982498    37.902409\n",
       "2019-01-08  37.687500    37.748112\n",
       "2019-01-09  38.327499    38.121647\n",
       "...               ...          ...\n",
       "2019-12-24  71.067497    70.327087\n",
       "2019-12-26  72.477501    70.731354\n",
       "2019-12-27  72.449997    71.713806\n",
       "2019-12-30  72.879997    72.189980\n",
       "2019-12-31  73.412498    72.554420\n",
       "\n",
       "[251 rows x 2 columns]"
      ]
     },
     "execution_count": 19,
     "metadata": {},
     "output_type": "execute_result"
    }
   ],
   "source": [
    "#Showing the valid(actual) and predicted prices\n",
    "valid"
   ]
  },
  {
   "cell_type": "code",
   "execution_count": 20,
   "metadata": {},
   "outputs": [],
   "source": [
    "companies = {\n",
    "    'Tickers': ['IOC.NS' , 'BALMLAWRIE.NS' , 'CHENNPETRO.NS' , 'OIL.NS' , 'ONGC.NS' , 'HYMTF' , 'M&MFIN.NS' , 'TTM' , \n",
    "                          'NSANY' , 'HMC' , 'IBN' , 'HDB' , 'PNB.NS' , 'CANBK.NS' , 'UNIONBANK.NS'],\n",
    "    'Company Name': ['India Oil Corp.India' , 'Balmer Lawrie & Co. Ltd' , 'Chennai Petroleum Corporation Limited' , \n",
    "                 'Oil India Limited' , 'Oil and Natural Gas Corporation Limited' , 'Hyundai Motor Company' ,\n",
    "                 'Mahindra & Mahindra' , 'Tata Motors Limited' , 'Nissan Motor Co.Ltd.' , 'Honda Motor Co. Ltd.' ,\n",
    "                 'ICICI Bank Limited' , 'HDFC Bank Limited' , 'Punjab National Bank' , 'Canara Bank' , 'Union Bank of India'],\n",
    "    'Type': ['OIL' , 'OIL' , 'OIL' , 'OIL' , 'OIL' , 'AUTOMOBILE' , 'AUTOMOBILE' ,  'AUTOMOBILE' ,  'AUTOMOBILE' , \n",
    "         'AUTOMOBILE' , 'BANK' , 'BANK' , 'BANK' , 'BANK' , 'BANK']}\n",
    "\n",
    "Index = [1,2,3,4,5,6,7,8,9,10,11,12,13,14,15]\n",
    "\n",
    "company = pd.DataFrame(companies , index = Index)"
   ]
  },
  {
   "cell_type": "code",
   "execution_count": 21,
   "metadata": {},
   "outputs": [
    {
     "name": "stdout",
     "output_type": "stream",
     "text": [
      "\u001b[1m                       ------WELCOME TO THE STOCK MARKET PREDICTOR------ \u001b[0m\n",
      "\n",
      "This app will provide you with the estimated price of the next day of any particular stock you desire!\n",
      "\n",
      "The companies supported by our model are :\n"
     ]
    },
    {
     "data": {
      "text/html": [
       "<div>\n",
       "<style scoped>\n",
       "    .dataframe tbody tr th:only-of-type {\n",
       "        vertical-align: middle;\n",
       "    }\n",
       "\n",
       "    .dataframe tbody tr th {\n",
       "        vertical-align: top;\n",
       "    }\n",
       "\n",
       "    .dataframe thead th {\n",
       "        text-align: right;\n",
       "    }\n",
       "</style>\n",
       "<table border=\"1\" class=\"dataframe\">\n",
       "  <thead>\n",
       "    <tr style=\"text-align: right;\">\n",
       "      <th></th>\n",
       "      <th>Tickers</th>\n",
       "      <th>Company Name</th>\n",
       "      <th>Type</th>\n",
       "    </tr>\n",
       "  </thead>\n",
       "  <tbody>\n",
       "    <tr>\n",
       "      <th>1</th>\n",
       "      <td>IOC.NS</td>\n",
       "      <td>India Oil Corp.India</td>\n",
       "      <td>OIL</td>\n",
       "    </tr>\n",
       "    <tr>\n",
       "      <th>2</th>\n",
       "      <td>BALMLAWRIE.NS</td>\n",
       "      <td>Balmer Lawrie &amp; Co. Ltd</td>\n",
       "      <td>OIL</td>\n",
       "    </tr>\n",
       "    <tr>\n",
       "      <th>3</th>\n",
       "      <td>CHENNPETRO.NS</td>\n",
       "      <td>Chennai Petroleum Corporation Limited</td>\n",
       "      <td>OIL</td>\n",
       "    </tr>\n",
       "    <tr>\n",
       "      <th>4</th>\n",
       "      <td>OIL.NS</td>\n",
       "      <td>Oil India Limited</td>\n",
       "      <td>OIL</td>\n",
       "    </tr>\n",
       "    <tr>\n",
       "      <th>5</th>\n",
       "      <td>ONGC.NS</td>\n",
       "      <td>Oil and Natural Gas Corporation Limited</td>\n",
       "      <td>OIL</td>\n",
       "    </tr>\n",
       "    <tr>\n",
       "      <th>6</th>\n",
       "      <td>HYMTF</td>\n",
       "      <td>Hyundai Motor Company</td>\n",
       "      <td>AUTOMOBILE</td>\n",
       "    </tr>\n",
       "    <tr>\n",
       "      <th>7</th>\n",
       "      <td>M&amp;MFIN.NS</td>\n",
       "      <td>Mahindra &amp; Mahindra</td>\n",
       "      <td>AUTOMOBILE</td>\n",
       "    </tr>\n",
       "    <tr>\n",
       "      <th>8</th>\n",
       "      <td>TTM</td>\n",
       "      <td>Tata Motors Limited</td>\n",
       "      <td>AUTOMOBILE</td>\n",
       "    </tr>\n",
       "    <tr>\n",
       "      <th>9</th>\n",
       "      <td>NSANY</td>\n",
       "      <td>Nissan Motor Co.Ltd.</td>\n",
       "      <td>AUTOMOBILE</td>\n",
       "    </tr>\n",
       "    <tr>\n",
       "      <th>10</th>\n",
       "      <td>HMC</td>\n",
       "      <td>Honda Motor Co. Ltd.</td>\n",
       "      <td>AUTOMOBILE</td>\n",
       "    </tr>\n",
       "    <tr>\n",
       "      <th>11</th>\n",
       "      <td>IBN</td>\n",
       "      <td>ICICI Bank Limited</td>\n",
       "      <td>BANK</td>\n",
       "    </tr>\n",
       "    <tr>\n",
       "      <th>12</th>\n",
       "      <td>HDB</td>\n",
       "      <td>HDFC Bank Limited</td>\n",
       "      <td>BANK</td>\n",
       "    </tr>\n",
       "    <tr>\n",
       "      <th>13</th>\n",
       "      <td>PNB.NS</td>\n",
       "      <td>Punjab National Bank</td>\n",
       "      <td>BANK</td>\n",
       "    </tr>\n",
       "    <tr>\n",
       "      <th>14</th>\n",
       "      <td>CANBK.NS</td>\n",
       "      <td>Canara Bank</td>\n",
       "      <td>BANK</td>\n",
       "    </tr>\n",
       "    <tr>\n",
       "      <th>15</th>\n",
       "      <td>UNIONBANK.NS</td>\n",
       "      <td>Union Bank of India</td>\n",
       "      <td>BANK</td>\n",
       "    </tr>\n",
       "  </tbody>\n",
       "</table>\n",
       "</div>"
      ],
      "text/plain": [
       "          Tickers                             Company Name        Type\n",
       "1          IOC.NS                     India Oil Corp.India         OIL\n",
       "2   BALMLAWRIE.NS                  Balmer Lawrie & Co. Ltd         OIL\n",
       "3   CHENNPETRO.NS    Chennai Petroleum Corporation Limited         OIL\n",
       "4          OIL.NS                        Oil India Limited         OIL\n",
       "5         ONGC.NS  Oil and Natural Gas Corporation Limited         OIL\n",
       "6           HYMTF                    Hyundai Motor Company  AUTOMOBILE\n",
       "7       M&MFIN.NS                      Mahindra & Mahindra  AUTOMOBILE\n",
       "8             TTM                      Tata Motors Limited  AUTOMOBILE\n",
       "9           NSANY                     Nissan Motor Co.Ltd.  AUTOMOBILE\n",
       "10            HMC                     Honda Motor Co. Ltd.  AUTOMOBILE\n",
       "11            IBN                       ICICI Bank Limited        BANK\n",
       "12            HDB                        HDFC Bank Limited        BANK\n",
       "13         PNB.NS                     Punjab National Bank        BANK\n",
       "14       CANBK.NS                              Canara Bank        BANK\n",
       "15   UNIONBANK.NS                      Union Bank of India        BANK"
      ]
     },
     "execution_count": 21,
     "metadata": {},
     "output_type": "execute_result"
    }
   ],
   "source": [
    "bold_start = '\\033[1m'\n",
    "bold_end   = '\\033[0m'\n",
    "\n",
    "class stocks:\n",
    "    \n",
    "    def __init__(self):\n",
    "        pass\n",
    "    \n",
    "    def showData(self):\n",
    "        print(bold_start , \"                      ------WELCOME TO THE STOCK MARKET PREDICTOR------\" , bold_end)\n",
    "        print(\"\")\n",
    "        print(\"This app will provide you with the estimated price of the next day of any particular stock you desire!\")\n",
    "        print(\"\")\n",
    "        print(\"The companies supported by our model are :\")\n",
    "        dfStyler = company.style.set_properties(**{'text-align': 'left'})\n",
    "        dfStyler.set_table_styles([dict(selector='th', props=[('text-align', 'left')])])\n",
    "        return company\n",
    "        \n",
    "obj1 = stocks()\n",
    "obj1.showData()"
   ]
  },
  {
   "cell_type": "code",
   "execution_count": 29,
   "metadata": {},
   "outputs": [
    {
     "name": "stdout",
     "output_type": "stream",
     "text": [
      "Enter company ticker whose past 30 days history you would like to see : TTM\n",
      "Would you like to see the data in the form of a graph or a database? : DATABASE\n",
      "\n",
      "             High   Low   Open  Close   Volume  Adj Close\n",
      "Date                                                     \n",
      "2020-10-09   9.60  9.45   9.55   9.58  1004600       9.58\n",
      "2020-10-12   9.40  9.29   9.33   9.34   816100       9.34\n",
      "2020-10-13   9.20  9.00   9.20   9.08  1094900       9.08\n",
      "2020-10-14   9.07  8.92   8.95   8.92  1036100       8.92\n",
      "2020-10-15   8.82  8.57   8.68   8.81  1779600       8.81\n",
      "2020-10-16   8.89  8.77   8.84   8.80   814700       8.80\n",
      "2020-10-19   8.87  8.61   8.81   8.61  1698400       8.61\n",
      "2020-10-20   9.04  8.81   8.84   8.92  1090600       8.92\n",
      "2020-10-21   8.99  8.81   8.94   8.84   764500       8.84\n",
      "2020-10-22   9.14  9.03   9.08   9.12  1049600       9.12\n",
      "2020-10-23   9.34  9.16   9.30   9.32  1158700       9.32\n",
      "2020-10-26   9.08  8.89   9.03   9.06  2141900       9.06\n",
      "2020-10-27   9.58  9.15   9.15   9.48  1552900       9.48\n",
      "2020-10-28   9.04  8.80   9.02   8.85  2483900       8.85\n",
      "2020-10-29   8.98  8.73   8.84   8.93  1099900       8.93\n",
      "2020-10-30   8.97  8.71   8.93   8.77  1466700       8.77\n",
      "2020-11-02   9.10  8.87   8.93   9.08  1132100       9.08\n",
      "2020-11-03   9.41  9.08   9.08   9.29  1957700       9.29\n",
      "2020-11-04   9.40  9.23   9.35   9.28  1671800       9.28\n",
      "2020-11-05   9.53  9.33   9.34   9.50  1825900       9.50\n",
      "2020-11-06   9.54  9.44   9.51   9.49   930600       9.49\n",
      "2020-11-09  10.39  9.80   9.85  10.20  2803800      10.20\n",
      "2020-11-10  10.28  9.94  10.09  10.03  2711400      10.03\n",
      "\n",
      "Would you like to view the data of any more companies? : YES\n",
      "Enter company ticker whose past 30 days history you would like to see : TTM\n",
      "Would you like to see the data in the form of a graph or a database? : GRAPH\n",
      "\n"
     ]
    },
    {
     "data": {
      "image/png": "[encoded data removed]",
      "text/plain": [
       "<Figure size 1152x576 with 1 Axes>"
      ]
     },
     "metadata": {
      "needs_background": "light"
     },
     "output_type": "display_data"
    },
    {
     "name": "stdout",
     "output_type": "stream",
     "text": [
      "\n",
      "Would you like to view the data of any more companies? : NO\n"
     ]
    }
   ],
   "source": [
    "class history:\n",
    "    \n",
    "    def __init__(self):\n",
    "        pass\n",
    "    \n",
    "    def compName(self):\n",
    "        self.comp = input(\"Enter company ticker whose past 30 days history you would like to see : \").upper()\n",
    "          \n",
    "    def show(self):\n",
    "        dataFrame = pdr.DataReader(self.comp , data_source = 'yahoo' , start = '2020-10-10' , end = '2020-11-10')\n",
    "        print(dataFrame)\n",
    "        \n",
    "    def getCompanyName(self):\n",
    "        return self.comp\n",
    "        \n",
    "class historyGraph(history):\n",
    "    \n",
    "    def __init__(self):\n",
    "        pass\n",
    "    \n",
    "    def show(self,com):\n",
    "        self.com = com\n",
    "        dataFrame = pdr.DataReader(self.com , data_source = 'yahoo' , start = '2020-10-10' , end = '2020-11-10')\n",
    "        plt.figure(figsize=(16,8))\n",
    "        plt.title('Closing Price History')\n",
    "        plt.plot(dataFrame['Close'])\n",
    "        plt.xlabel('Date' , fontsize = 18)\n",
    "        plt.ylabel('Closing Price in $' , fontsize = 18)\n",
    "        plt.show()\n",
    "        \n",
    "obj = history()\n",
    "obj2 = historyGraph()\n",
    "\n",
    "while True:\n",
    "    obj.compName()\n",
    "    mode = input(\"Would you like to see the data in the form of a graph or a database? : \").upper()\n",
    "    print(\"\")\n",
    "    if(mode == \"GRAPH\"):\n",
    "        obj2.show(obj.getCompanyName())\n",
    "    else:\n",
    "        obj.show()\n",
    "    print(\"\")\n",
    "    answer = input(\"Would you like to view the data of any more companies? : \").upper()\n",
    "    if(answer != 'YES'):\n",
    "        break"
   ]
  },
  {
   "cell_type": "code",
   "execution_count": 30,
   "metadata": {},
   "outputs": [
    {
     "name": "stdout",
     "output_type": "stream",
     "text": [
      "Enter the company ticker whose stock price you would like to predict : IBN\n",
      "Enter the date of the current day : 25 11 2020\n",
      "Enter the date of the next day : 26 11 2020\n",
      "The estimated price for IBN on  26 11 2020  is  [[14.916046]]\n",
      "The price of IBN on 25 11 2020 is 13.199999809265137 and is lower than the predicted price -> should invest in the stock\n"
     ]
    }
   ],
   "source": [
    "class prediction:\n",
    "    \n",
    "    def __init__(self):\n",
    "        pass\n",
    "        \n",
    "    def companyName(self):\n",
    "        self.comp = input(\"Enter the company ticker whose stock price you would like to predict : \").upper()\n",
    "        \n",
    "    def dateToday(self):\n",
    "        self.date1 = input(\"Enter the date of the current day : \")\n",
    "\n",
    "    def dateTomorrow(self):\n",
    "        self.date = input(\"Enter the date of the next day : \")\n",
    "        \n",
    "    def calculate(self):\n",
    "        #date = input(\"Enter the date of the next day : \")\n",
    "        #Predicting prices for Januray 02 2020\n",
    "        company_quote = pdr.DataReader(self.comp , data_source='yahoo' , start='2015-01-01' , end=self.date)\n",
    "\n",
    "        #Creating a new dataframe\n",
    "        new_df = company_quote.filter(['Close'])\n",
    "\n",
    "        #Getting the last 60 day closing prices and converting the dataframe to an array\n",
    "        last_60_days = new_df[-60:].values\n",
    "\n",
    "        #Scaling the data\n",
    "        last_60_days_scaled = scaler.transform(last_60_days)\n",
    "\n",
    "        #Creating an empty list\n",
    "        X_test = []\n",
    "\n",
    "        #Appending the past 60 days to the X_test list\n",
    "        X_test.append(last_60_days_scaled)\n",
    "\n",
    "        #Converting the X_test dataset to a numpy array\n",
    "        X_test = np.array(X_test)\n",
    "\n",
    "        #Reshaping to 3D\n",
    "        X_test = np.reshape(X_test, (X_test.shape[0] , X_test.shape[1] , 1))\n",
    "\n",
    "        #Getting the predicted scaled prices\n",
    "        pred_price = model.predict(X_test)\n",
    "        \n",
    "        #Undo the scaling\n",
    "        pred_price = scaler.inverse_transform(pred_price)\n",
    "        self.pred = pred_price\n",
    "        \n",
    "    def show(self):\n",
    "        print(f\"The estimated price for {self.comp} on  {self.date}  is  {self.pred}\")\n",
    "        \n",
    "    def invest(self):\n",
    "        company_quote = pdr.DataReader(self.comp , data_source='yahoo' , start=self.date1)\n",
    "        new_df = company_quote.filter(['Close'])\n",
    "        pred_price1 = new_df['Close'][1]\n",
    "        \n",
    "        if pred_price1<self.pred:\n",
    "            print(f\"The price of {self.comp} on {self.date1} is {pred_price1} and is lower than the predicted price -> should invest in the stock\")\n",
    "        else:\n",
    "            print(f\"The price of {self.comp} on {self.date1} is {pred_price1} and is higher than the predicted price -> dont invest in this stock.\")\n",
    "        \n",
    "pred = prediction()\n",
    "pred.companyName()\n",
    "pred.dateToday()\n",
    "pred.dateTomorrow()\n",
    "pred.calculate()\n",
    "pred.show()\n",
    "pred.invest()"
   ]
  },
  {
   "cell_type": "code",
   "execution_count": null,
   "metadata": {},
   "outputs": [],
   "source": []
  }
 ],
 "metadata": {
  "kernelspec": {
   "display_name": "Python 3",
   "language": "python",
   "name": "python3"
  },
  "language_info": {
   "codemirror_mode": {
    "name": "ipython",
    "version": 3
   },
   "file_extension": ".py",
   "mimetype": "text/x-python",
   "name": "python",
   "nbconvert_exporter": "python",
   "pygments_lexer": "ipython3",
   "version": "3.7.9"
  }
 },
 "nbformat": 4,
 "nbformat_minor": 4
}
